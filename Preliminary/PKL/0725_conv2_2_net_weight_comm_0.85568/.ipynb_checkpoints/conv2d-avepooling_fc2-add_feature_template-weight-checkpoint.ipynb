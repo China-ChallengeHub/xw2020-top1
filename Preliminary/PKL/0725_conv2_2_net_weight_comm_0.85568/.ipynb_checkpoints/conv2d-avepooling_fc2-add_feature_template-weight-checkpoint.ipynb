{
 "cells": [
  {
   "cell_type": "markdown",
   "metadata": {
    "ExecuteTime": {
     "end_time": "2020-07-10T07:32:14.837685Z",
     "start_time": "2020-07-10T07:32:14.833926Z"
    }
   },
   "source": [
    "fit 里面设置权重"
   ]
  },
  {
   "cell_type": "code",
   "execution_count": 1,
   "metadata": {
    "ExecuteTime": {
     "end_time": "2020-08-06T17:48:58.591132Z",
     "start_time": "2020-08-06T17:48:57.133430Z"
    }
   },
   "outputs": [],
   "source": [
    "seed = 0\n",
    "import random\n",
    "import tensorflow as tf\n",
    "import numpy as np\n",
    "import os\n",
    "random.seed(seed),\n",
    "np.random.seed(seed)\n",
    "tf.random.set_seed(seed)\n",
    "os.environ[\"CUDA_DEVICE_ORDER\"] = 'PCI_BUS_ID'\n",
    "os.environ[\"CUDA_VISIBLE_DEVICES\"] = '0'\n",
    "os.environ[\"PYTHONHASHSEED\"] = str(seed)\n",
    "\n",
    "os.environ['TF_DETERMINISTIC_OPS'] = '1'"
   ]
  },
  {
   "cell_type": "code",
   "execution_count": 2,
   "metadata": {
    "ExecuteTime": {
     "end_time": "2020-08-06T17:48:58.990594Z",
     "start_time": "2020-08-06T17:48:58.593386Z"
    },
    "scrolled": true
   },
   "outputs": [],
   "source": [
    "import numpy as np\n",
    "import pandas as pd\n",
    "# 选择比较好的模型\n",
    "# import seaborn as sns\n",
    "\n",
    "import matplotlib.pyplot as plt\n",
    "from tqdm import tqdm\n",
    "from scipy.signal import resample\n",
    "from tensorflow.keras import layers\n",
    "from tensorflow.keras.layers import *\n",
    "from tensorflow.keras.models import Model\n",
    "from tensorflow.keras.optimizers import Adam\n",
    "from tensorflow.keras.utils import to_categorical\n",
    "from sklearn.model_selection import StratifiedKFold\n",
    "from tensorflow.keras.callbacks import EarlyStopping, ModelCheckpoint, ReduceLROnPlateau\n",
    "import os\n",
    "from sklearn.metrics import f1_score, precision_score, recall_score, accuracy_score\n",
    "\n",
    "from sklearn.preprocessing import StandardScaler,MinMaxScaler\n",
    "# %load_ext autoreload\n",
    "# %autoreload 2\n",
    "\n",
    "\n",
    "def acc_combo(y, y_pred):\n",
    "    # 数值ID与行为编码的对应关系\n",
    "    mapping = {0: 'A_0', 1: 'A_1', 2: 'A_2', 3: 'A_3', \n",
    "        4: 'D_4', 5: 'A_5', 6: 'B_1',7: 'B_5', \n",
    "        8: 'B_2', 9: 'B_3', 10: 'B_0', 11: 'A_6', \n",
    "        12: 'C_1', 13: 'C_3', 14: 'C_0', 15: 'B_6', \n",
    "        16: 'C_2', 17: 'C_5', 18: 'C_6'}\n",
    "    # 将行为ID转为编码\n",
    "    code_y, code_y_pred = mapping[y], mapping[y_pred]\n",
    "    if code_y == code_y_pred: #编码完全相同得分1.0\n",
    "        return 1.0\n",
    "    elif code_y.split(\"_\")[0] == code_y_pred.split(\"_\")[0]: #编码仅字母部分相同得分1.0/7\n",
    "        return 1.0/7\n",
    "    elif code_y.split(\"_\")[1] == code_y_pred.split(\"_\")[1]: #编码仅数字部分相同得分1.0/3\n",
    "        return 1.0/3\n",
    "    else:\n",
    "        return 0.0\n",
    "\n",
    "\n",
    "sample_num = 60"
   ]
  },
  {
   "cell_type": "code",
   "execution_count": 4,
   "metadata": {
    "ExecuteTime": {
     "end_time": "2020-08-06T17:49:03.226020Z",
     "start_time": "2020-08-06T17:49:03.086228Z"
    }
   },
   "outputs": [
    {
     "name": "stdout",
     "output_type": "stream",
     "text": [
      "data\t\t\t      ensemble_2_to_0806allin088716.py\tPKL\r\n",
      "ensemble_1_to_allin088681.py  lgb_emsemble\r\n"
     ]
    }
   ],
   "source": [
    "!ls ../../"
   ]
  },
  {
   "cell_type": "code",
   "execution_count": 5,
   "metadata": {
    "ExecuteTime": {
     "end_time": "2020-08-06T17:49:08.716931Z",
     "start_time": "2020-08-06T17:49:08.276541Z"
    },
    "scrolled": true
   },
   "outputs": [],
   "source": [
    "root_path  = '../../data/'\n",
    "train = pd.read_csv(root_path+'sensor_train.csv')\n",
    "test = pd.read_csv(root_path+'sensor_test.csv')\n",
    "sub = pd.read_csv(root_path+'提交结果示例.csv')\n",
    "y = train.groupby('fragment_id')['behavior_id'].min()"
   ]
  },
  {
   "cell_type": "code",
   "execution_count": 6,
   "metadata": {
    "ExecuteTime": {
     "end_time": "2020-08-06T17:49:09.114906Z",
     "start_time": "2020-08-06T17:49:09.094303Z"
    }
   },
   "outputs": [],
   "source": [
    "def add_features(df):\n",
    "    print(df.columns)\n",
    "    df['acc'] = (df.acc_x ** 2 + df.acc_y ** 2 + df.acc_z ** 2) ** .5\n",
    "    df['accg'] = (df.acc_xg ** 2 + df.acc_yg ** 2 + df.acc_zg ** 2) ** .5\n",
    "    df['thetax']=np.arctan(df.acc_xg/\n",
    "                           np.sqrt(df.acc_yg*df.acc_yg+df.acc_zg*df.acc_zg))*180/np.pi\n",
    "    df['thetay']=np.arctan(df.acc_yg/\n",
    "                           np.sqrt(df.acc_xg*df.acc_xg+df.acc_zg*df.acc_zg))*180/np.pi\n",
    "    df['thetaz']=np.arctan(df.acc_zg/\n",
    "                           np.sqrt(df.acc_yg*df.acc_yg+df.acc_xg*df.acc_xg))*180/np.pi\n",
    "\n",
    "    df['xy'] = (df['acc_x'] ** 2 + df['acc_y'] ** 2) ** 0.5\n",
    "    df['xy_g'] = (df['acc_xg'] ** 2 + df['acc_yg'] ** 2) ** 0.5    \n",
    "    \n",
    "    df['g'] = ((df[\"acc_x\"] - df[\"acc_xg\"]) ** 2 + \n",
    "                 (df[\"acc_y\"] - df[\"acc_yg\"]) ** 2 + (df[\"acc_z\"] - df[\"acc_zg\"]) ** 2) ** 0.5\n",
    "\n",
    "    print(df.columns)\n",
    "    return df"
   ]
  },
  {
   "cell_type": "code",
   "execution_count": 7,
   "metadata": {
    "ExecuteTime": {
     "end_time": "2020-08-06T17:49:10.115719Z",
     "start_time": "2020-08-06T17:49:09.945809Z"
    },
    "scrolled": true
   },
   "outputs": [
    {
     "name": "stdout",
     "output_type": "stream",
     "text": [
      "Index(['fragment_id', 'time_point', 'acc_x', 'acc_y', 'acc_z', 'acc_xg',\n",
      "       'acc_yg', 'acc_zg', 'behavior_id'],\n",
      "      dtype='object')\n",
      "Index(['fragment_id', 'time_point', 'acc_x', 'acc_y', 'acc_z', 'acc_xg',\n",
      "       'acc_yg', 'acc_zg', 'behavior_id', 'acc', 'accg', 'thetax', 'thetay',\n",
      "       'thetaz', 'xy', 'xy_g', 'g'],\n",
      "      dtype='object')\n",
      "Index(['fragment_id', 'time_point', 'acc_x', 'acc_y', 'acc_z', 'acc_xg',\n",
      "       'acc_yg', 'acc_zg'],\n",
      "      dtype='object')\n",
      "Index(['fragment_id', 'time_point', 'acc_x', 'acc_y', 'acc_z', 'acc_xg',\n",
      "       'acc_yg', 'acc_zg', 'acc', 'accg', 'thetax', 'thetay', 'thetaz', 'xy',\n",
      "       'xy_g', 'g'],\n",
      "      dtype='object')\n"
     ]
    }
   ],
   "source": [
    "train=add_features(train)\n",
    "test=add_features(test)"
   ]
  },
  {
   "cell_type": "code",
   "execution_count": 8,
   "metadata": {
    "ExecuteTime": {
     "end_time": "2020-08-06T17:49:10.710089Z",
     "start_time": "2020-08-06T17:49:10.695720Z"
    }
   },
   "outputs": [
    {
     "data": {
      "text/plain": [
       "['acc_x',\n",
       " 'acc_y',\n",
       " 'acc_z',\n",
       " 'acc_xg',\n",
       " 'acc_yg',\n",
       " 'acc_zg',\n",
       " 'acc',\n",
       " 'accg',\n",
       " 'thetax',\n",
       " 'thetay',\n",
       " 'thetaz',\n",
       " 'xy',\n",
       " 'xy_g',\n",
       " 'g']"
      ]
     },
     "execution_count": 8,
     "metadata": {},
     "output_type": "execute_result"
    }
   ],
   "source": [
    "group1 = [x for x in train.columns if x not in ['fragment_id', 'time_point','behavior_id']]\n",
    "group1"
   ]
  },
  {
   "cell_type": "code",
   "execution_count": 9,
   "metadata": {
    "ExecuteTime": {
     "end_time": "2020-08-06T17:49:11.326104Z",
     "start_time": "2020-08-06T17:49:11.320980Z"
    }
   },
   "outputs": [],
   "source": [
    "FEATURE_NUM=14"
   ]
  },
  {
   "cell_type": "code",
   "execution_count": 10,
   "metadata": {
    "ExecuteTime": {
     "end_time": "2020-08-06T17:49:12.630756Z",
     "start_time": "2020-08-06T17:49:12.623858Z"
    }
   },
   "outputs": [],
   "source": [
    "\n",
    "x = np.zeros((7292, sample_num, FEATURE_NUM, 1))\n",
    "t = np.zeros((7500, sample_num, FEATURE_NUM, 1))\n"
   ]
  },
  {
   "cell_type": "code",
   "execution_count": 11,
   "metadata": {
    "ExecuteTime": {
     "end_time": "2020-08-06T17:49:45.861982Z",
     "start_time": "2020-08-06T17:49:14.493292Z"
    },
    "scrolled": true
   },
   "outputs": [
    {
     "name": "stderr",
     "output_type": "stream",
     "text": [
      "  1%|          | 47/7292 [00:00<00:15, 462.73it/s]"
     ]
    },
    {
     "name": "stdout",
     "output_type": "stream",
     "text": [
      "Index(['fragment_id', 'time_point', 'behavior_id', 'acc_x', 'acc_y', 'acc_z',\n",
      "       'acc_xg', 'acc_yg', 'acc_zg', 'acc', 'accg', 'thetax', 'thetay',\n",
      "       'thetaz', 'xy', 'xy_g', 'g'],\n",
      "      dtype='object')\n"
     ]
    },
    {
     "name": "stderr",
     "output_type": "stream",
     "text": [
      "100%|██████████| 7292/7292 [00:15<00:00, 473.72it/s]\n",
      "100%|██████████| 7500/7500 [00:15<00:00, 474.36it/s]\n"
     ]
    }
   ],
   "source": [
    "\n",
    "train = train[['fragment_id', 'time_point', 'behavior_id']+group1]\n",
    "test = test[['fragment_id', 'time_point']+group1]\n",
    "print(train.columns)\n",
    "\n",
    "for i in tqdm(range(7292)):\n",
    "    tmp = train[train.fragment_id == i][:sample_num]\n",
    "    x[i,:,:,0] = resample(tmp.drop(['fragment_id', 'time_point', 'behavior_id'],\n",
    "                                    axis=1)[group1], sample_num, np.array(tmp.time_point))[0].reshape(sample_num,FEATURE_NUM)\n",
    "for i in tqdm(range(7500)):\n",
    "    tmp = test[test.fragment_id == i][:sample_num]\n",
    "    t[i,:,:,0] = resample(tmp.drop(['fragment_id', 'time_point'],\n",
    "                                    axis=1)[group1], sample_num, np.array(tmp.time_point))[0].reshape(sample_num,FEATURE_NUM)\n",
    "\n",
    "    \n",
    "    "
   ]
  },
  {
   "cell_type": "code",
   "execution_count": 12,
   "metadata": {
    "ExecuteTime": {
     "end_time": "2020-08-06T17:49:47.396893Z",
     "start_time": "2020-08-06T17:49:45.864039Z"
    },
    "scrolled": true
   },
   "outputs": [
    {
     "name": "stdout",
     "output_type": "stream",
     "text": [
      "Model: \"model\"\n",
      "__________________________________________________________________________________________________\n",
      "Layer (type)                    Output Shape         Param #     Connected to                     \n",
      "==================================================================================================\n",
      "input_1 (InputLayer)            [(None, 60, 14, 1)]  0                                            \n",
      "__________________________________________________________________________________________________\n",
      "tf_op_layer_split (TensorFlowOp [(None, 60, 6, 1), ( 0           input_1[0][0]                    \n",
      "__________________________________________________________________________________________________\n",
      "concatenate (Concatenate)       (None, 60, 8, 1)     0           tf_op_layer_split[0][0]          \n",
      "                                                                 tf_op_layer_split[0][1]          \n",
      "__________________________________________________________________________________________________\n",
      "concatenate_1 (Concatenate)     (None, 60, 12, 1)    0           tf_op_layer_split[0][0]          \n",
      "                                                                 tf_op_layer_split[0][2]          \n",
      "__________________________________________________________________________________________________\n",
      "conv2d (Conv2D)                 (None, 60, 8, 64)    576         concatenate[0][0]                \n",
      "__________________________________________________________________________________________________\n",
      "conv2d_4 (Conv2D)               (None, 60, 12, 64)   576         concatenate_1[0][0]              \n",
      "__________________________________________________________________________________________________\n",
      "batch_normalization (BatchNorma (None, 60, 8, 64)    256         conv2d[0][0]                     \n",
      "__________________________________________________________________________________________________\n",
      "batch_normalization_6 (BatchNor (None, 60, 12, 64)   256         conv2d_4[0][0]                   \n",
      "__________________________________________________________________________________________________\n",
      "activation (Activation)         (None, 60, 8, 64)    0           batch_normalization[0][0]        \n",
      "__________________________________________________________________________________________________\n",
      "activation_4 (Activation)       (None, 60, 12, 64)   0           batch_normalization_6[0][0]      \n",
      "__________________________________________________________________________________________________\n",
      "conv2d_1 (Conv2D)               (None, 60, 8, 128)   73728       activation[0][0]                 \n",
      "__________________________________________________________________________________________________\n",
      "conv2d_5 (Conv2D)               (None, 60, 12, 128)  73728       activation_4[0][0]               \n",
      "__________________________________________________________________________________________________\n",
      "batch_normalization_1 (BatchNor (None, 60, 8, 128)   512         conv2d_1[0][0]                   \n",
      "__________________________________________________________________________________________________\n",
      "batch_normalization_7 (BatchNor (None, 60, 12, 128)  512         conv2d_5[0][0]                   \n",
      "__________________________________________________________________________________________________\n",
      "activation_1 (Activation)       (None, 60, 8, 128)   0           batch_normalization_1[0][0]      \n",
      "__________________________________________________________________________________________________\n",
      "activation_5 (Activation)       (None, 60, 12, 128)  0           batch_normalization_7[0][0]      \n",
      "__________________________________________________________________________________________________\n",
      "dropout (Dropout)               (None, 60, 8, 128)   0           activation_1[0][0]               \n",
      "__________________________________________________________________________________________________\n",
      "dropout_4 (Dropout)             (None, 60, 12, 128)  0           activation_5[0][0]               \n",
      "__________________________________________________________________________________________________\n",
      "average_pooling2d (AveragePooli (None, 30, 4, 128)   0           dropout[0][0]                    \n",
      "__________________________________________________________________________________________________\n",
      "average_pooling2d_1 (AveragePoo (None, 30, 6, 128)   0           dropout_4[0][0]                  \n",
      "__________________________________________________________________________________________________\n",
      "conv2d_2 (Conv2D)               (None, 30, 4, 256)   294912      average_pooling2d[0][0]          \n",
      "__________________________________________________________________________________________________\n",
      "conv2d_6 (Conv2D)               (None, 30, 6, 256)   294912      average_pooling2d_1[0][0]        \n",
      "__________________________________________________________________________________________________\n",
      "batch_normalization_2 (BatchNor (None, 30, 4, 256)   1024        conv2d_2[0][0]                   \n",
      "__________________________________________________________________________________________________\n",
      "batch_normalization_8 (BatchNor (None, 30, 6, 256)   1024        conv2d_6[0][0]                   \n",
      "__________________________________________________________________________________________________\n",
      "activation_2 (Activation)       (None, 30, 4, 256)   0           batch_normalization_2[0][0]      \n",
      "__________________________________________________________________________________________________\n",
      "activation_6 (Activation)       (None, 30, 6, 256)   0           batch_normalization_8[0][0]      \n",
      "__________________________________________________________________________________________________\n",
      "dropout_1 (Dropout)             (None, 30, 4, 256)   0           activation_2[0][0]               \n",
      "__________________________________________________________________________________________________\n",
      "dropout_5 (Dropout)             (None, 30, 6, 256)   0           activation_6[0][0]               \n",
      "__________________________________________________________________________________________________\n",
      "conv2d_3 (Conv2D)               (None, 30, 4, 512)   1179648     dropout_1[0][0]                  \n",
      "__________________________________________________________________________________________________\n",
      "conv2d_7 (Conv2D)               (None, 30, 6, 512)   1179648     dropout_5[0][0]                  \n",
      "__________________________________________________________________________________________________\n",
      "batch_normalization_3 (BatchNor (None, 30, 4, 512)   2048        conv2d_3[0][0]                   \n",
      "__________________________________________________________________________________________________\n",
      "batch_normalization_9 (BatchNor (None, 30, 6, 512)   2048        conv2d_7[0][0]                   \n",
      "__________________________________________________________________________________________________\n",
      "activation_3 (Activation)       (None, 30, 4, 512)   0           batch_normalization_3[0][0]      \n",
      "__________________________________________________________________________________________________\n",
      "activation_7 (Activation)       (None, 30, 6, 512)   0           batch_normalization_9[0][0]      \n",
      "__________________________________________________________________________________________________\n",
      "dropout_2 (Dropout)             (None, 30, 4, 512)   0           activation_3[0][0]               \n",
      "__________________________________________________________________________________________________\n",
      "dropout_6 (Dropout)             (None, 30, 6, 512)   0           activation_7[0][0]               \n",
      "__________________________________________________________________________________________________\n",
      "global_average_pooling2d (Globa (None, 512)          0           dropout_2[0][0]                  \n",
      "__________________________________________________________________________________________________\n",
      "global_average_pooling2d_1 (Glo (None, 512)          0           dropout_6[0][0]                  \n",
      "__________________________________________________________________________________________________\n",
      "batch_normalization_4 (BatchNor (None, 512)          2048        global_average_pooling2d[0][0]   \n",
      "__________________________________________________________________________________________________\n",
      "batch_normalization_10 (BatchNo (None, 512)          2048        global_average_pooling2d_1[0][0] \n",
      "__________________________________________________________________________________________________\n",
      "dense (Dense)                   (None, 128)          65664       batch_normalization_4[0][0]      \n",
      "__________________________________________________________________________________________________\n",
      "dense_1 (Dense)                 (None, 128)          65664       batch_normalization_10[0][0]     \n",
      "__________________________________________________________________________________________________\n",
      "batch_normalization_5 (BatchNor (None, 128)          512         dense[0][0]                      \n",
      "__________________________________________________________________________________________________\n",
      "batch_normalization_11 (BatchNo (None, 128)          512         dense_1[0][0]                    \n",
      "__________________________________________________________________________________________________\n",
      "dropout_3 (Dropout)             (None, 128)          0           batch_normalization_5[0][0]      \n",
      "__________________________________________________________________________________________________\n",
      "dropout_7 (Dropout)             (None, 128)          0           batch_normalization_11[0][0]     \n",
      "__________________________________________________________________________________________________\n",
      "concatenate_2 (Concatenate)     (None, 256)          0           dropout_3[0][0]                  \n",
      "                                                                 dropout_7[0][0]                  \n",
      "__________________________________________________________________________________________________\n",
      "dense_2 (Dense)                 (None, 19)           4883        concatenate_2[0][0]              \n",
      "==================================================================================================\n",
      "Total params: 3,246,739\n",
      "Trainable params: 3,240,339\n",
      "Non-trainable params: 6,400\n",
      "__________________________________________________________________________________________________\n"
     ]
    }
   ],
   "source": [
    "def ConvBNRelu(X,filters,kernal_size=(3,3)):\n",
    "    X = Conv2D(filters=filters,\n",
    "               kernel_size=kernal_size,\n",
    "#                activation='relu',\n",
    "               use_bias=False,\n",
    "               padding='same')(X)\n",
    "    X = BatchNormalization()(X)\n",
    "    X = Activation('relu')(X)\n",
    "    return X\n",
    "\n",
    "\n",
    "def ConvRelu(X,filters,kernal_size=(3,3)):\n",
    "    X = Conv2D(filters=filters,\n",
    "               kernel_size=kernal_size,\n",
    "               activation='relu',\n",
    "               use_bias=False,\n",
    "               padding='same')(X)\n",
    "    return X\n",
    "\n",
    "\n",
    "def squeeze_excitation_layer(x, out_dim,ratio=8):\n",
    "    '''\n",
    "    SE module performs inter-channel weighting.\n",
    "    '''\n",
    "    squeeze = GlobalAveragePooling2D()(x)\n",
    "\n",
    "    excitation = Dense(units=out_dim // ratio)(squeeze)\n",
    "    excitation = Activation('relu')(excitation)\n",
    "    excitation = Dense(units=out_dim)(excitation)\n",
    "    excitation = Activation('sigmoid')(excitation)\n",
    "    excitation = Reshape((1,1,out_dim))(excitation)\n",
    "    scale = multiply([x,excitation])\n",
    "    return scale\n",
    "\n",
    "# def SE_Residual(X):\n",
    "#     A = \n",
    "#     X = squeeze_excitation_layer(X,128)\n",
    "#     X =  Add()([X,A])\n",
    "    \n",
    "\n",
    "def lenet5(input):\n",
    "    A = ConvBNRelu(input,64,kernal_size=(3,3))\n",
    "#     B = ConvBNRelu(input,16,kernal_size=(5,1))\n",
    "#     C = ConvBNRelu(input,16,kernal_size=(7,1))\n",
    "#     ABC = layers.Concatenate()([A,B,C])\n",
    "    X = ConvBNRelu(A,128)\n",
    "#     X = squeeze_excitation_layer(X,128)\n",
    "    X = Dropout(0.2)(X)\n",
    "\n",
    "    X = AveragePooling2D()(X)\n",
    "    \n",
    "    X = ConvBNRelu(X,256)\n",
    "    X = Dropout(0.3)(X)\n",
    "#     X = squeeze_excitation_layer(X,256)\n",
    "    X = ConvBNRelu(X,512)   \n",
    "    X = Dropout(0.5)(X)\n",
    "#     X = squeeze_excitation_layer(X,512)\n",
    "#     X = GlobalMaxPooling2D()(X)\n",
    "    X = GlobalAveragePooling2D()(X)\n",
    "    \n",
    "#     X = BatchNormalization()(X)\n",
    "    return X\n",
    "import tensorflow as tf\n",
    "def Net(sample_num):\n",
    "    input1 = Input(shape=(sample_num, FEATURE_NUM, 1))\n",
    "    part = tf.split(input1,axis=2, num_or_size_splits = [6, 2, 6])\n",
    "#     res = tf.split(c, axis = 3, num_or_size_splits = [2, 2, 4])\n",
    "    \n",
    "    \n",
    "    X1 = Concatenate(axis=-2)([part[0],part[1]])\n",
    "    X1 = lenet5(X1)\n",
    "    X1 = BatchNormalization()(X1)\n",
    "    X1 = Dense(128, activation='relu')(X1)\n",
    "    X1 = BatchNormalization()(X1)\n",
    "    X1 = Dropout(0.2)(X1)\n",
    "\n",
    "    X2 = Concatenate(axis=-2)([part[0],part[2]])\n",
    "    X2 = lenet5(X2)    \n",
    "    X2 = BatchNormalization()(X2)\n",
    "#     X = Dense(512, activation='relu')(X)\n",
    "#     X = BatchNormalization()(X)\n",
    "    X2 = Dense(128, activation='relu')(X2)\n",
    "    X2 = BatchNormalization()(X2)\n",
    "    X2 = Dropout(0.2)(X2)\n",
    "    \n",
    "    X = Concatenate(axis=-1)([X1,X2])\n",
    "    \n",
    "#     X = Dense(19)(X)    \n",
    "    \n",
    "    O = Dense(19, activation='softmax')(X)    \n",
    "    \n",
    "    \n",
    "    return Model([input1], O)\n",
    "\n",
    "model = Net(60)\n",
    "model.summary()"
   ]
  },
  {
   "cell_type": "code",
   "execution_count": 18,
   "metadata": {
    "ExecuteTime": {
     "end_time": "2020-08-06T17:51:23.986768Z",
     "start_time": "2020-08-06T17:51:23.910618Z"
    }
   },
   "outputs": [
    {
     "data": {
      "text/plain": [
       "{0: 1.6146639588513296,\n",
       " 1: 0.5658077637797579,\n",
       " 2: 0.9428223116223914,\n",
       " 3: 1.1544614165363905,\n",
       " 4: 0.895063001338305,\n",
       " 5: 1.120093850476494,\n",
       " 6: 0.5129293816036677,\n",
       " 7: 1.6147804233607677,\n",
       " 8: 1.1629774436090226,\n",
       " 9: 1.3287818013695207,\n",
       " 10: 1.639495846903968,\n",
       " 11: 0.8571276001942526,\n",
       " 12: 0.5209381219191084,\n",
       " 13: 1.3164363042146117,\n",
       " 14: 3.1705588145409553,\n",
       " 15: 0.8020390423628304,\n",
       " 16: 1.108447580802777,\n",
       " 17: 1.4649467209444893,\n",
       " 18: 1.12076674790857}"
      ]
     },
     "execution_count": 18,
     "metadata": {},
     "output_type": "execute_result"
    }
   ],
   "source": [
    "from sklearn.utils.class_weight import compute_class_weight\n",
    "# y_train_weight = compute_sample_weight(\"balanced\", train['behavior_id'])\n",
    "classweights=compute_class_weight(\"balanced\",np.array(range(19)), train['behavior_id'])\n",
    "classweights=pd.DataFrame(classweights)[0].to_dict()\n",
    "classweights"
   ]
  },
  {
   "cell_type": "code",
   "execution_count": null,
   "metadata": {
    "ExecuteTime": {
     "start_time": "2020-08-06T17:51:26.420Z"
    },
    "scrolled": true
   },
   "outputs": [
    {
     "name": "stdout",
     "output_type": "stream",
     "text": [
      "Model: \"model_1\"\n",
      "__________________________________________________________________________________________________\n",
      "Layer (type)                    Output Shape         Param #     Connected to                     \n",
      "==================================================================================================\n",
      "input_2 (InputLayer)            [(None, 60, 14, 1)]  0                                            \n",
      "__________________________________________________________________________________________________\n",
      "tf_op_layer_split_1 (TensorFlow [(None, 60, 6, 1), ( 0           input_2[0][0]                    \n",
      "__________________________________________________________________________________________________\n",
      "concatenate_3 (Concatenate)     (None, 60, 8, 1)     0           tf_op_layer_split_1[0][0]        \n",
      "                                                                 tf_op_layer_split_1[0][1]        \n",
      "__________________________________________________________________________________________________\n",
      "concatenate_4 (Concatenate)     (None, 60, 12, 1)    0           tf_op_layer_split_1[0][0]        \n",
      "                                                                 tf_op_layer_split_1[0][2]        \n",
      "__________________________________________________________________________________________________\n",
      "conv2d_8 (Conv2D)               (None, 60, 8, 64)    576         concatenate_3[0][0]              \n",
      "__________________________________________________________________________________________________\n",
      "conv2d_12 (Conv2D)              (None, 60, 12, 64)   576         concatenate_4[0][0]              \n",
      "__________________________________________________________________________________________________\n",
      "batch_normalization_12 (BatchNo (None, 60, 8, 64)    256         conv2d_8[0][0]                   \n",
      "__________________________________________________________________________________________________\n",
      "batch_normalization_18 (BatchNo (None, 60, 12, 64)   256         conv2d_12[0][0]                  \n",
      "__________________________________________________________________________________________________\n",
      "activation_8 (Activation)       (None, 60, 8, 64)    0           batch_normalization_12[0][0]     \n",
      "__________________________________________________________________________________________________\n",
      "activation_12 (Activation)      (None, 60, 12, 64)   0           batch_normalization_18[0][0]     \n",
      "__________________________________________________________________________________________________\n",
      "conv2d_9 (Conv2D)               (None, 60, 8, 128)   73728       activation_8[0][0]               \n",
      "__________________________________________________________________________________________________\n",
      "conv2d_13 (Conv2D)              (None, 60, 12, 128)  73728       activation_12[0][0]              \n",
      "__________________________________________________________________________________________________\n",
      "batch_normalization_13 (BatchNo (None, 60, 8, 128)   512         conv2d_9[0][0]                   \n",
      "__________________________________________________________________________________________________\n",
      "batch_normalization_19 (BatchNo (None, 60, 12, 128)  512         conv2d_13[0][0]                  \n",
      "__________________________________________________________________________________________________\n",
      "activation_9 (Activation)       (None, 60, 8, 128)   0           batch_normalization_13[0][0]     \n",
      "__________________________________________________________________________________________________\n",
      "activation_13 (Activation)      (None, 60, 12, 128)  0           batch_normalization_19[0][0]     \n",
      "__________________________________________________________________________________________________\n",
      "dropout_8 (Dropout)             (None, 60, 8, 128)   0           activation_9[0][0]               \n",
      "__________________________________________________________________________________________________\n",
      "dropout_12 (Dropout)            (None, 60, 12, 128)  0           activation_13[0][0]              \n",
      "__________________________________________________________________________________________________\n",
      "average_pooling2d_2 (AveragePoo (None, 30, 4, 128)   0           dropout_8[0][0]                  \n",
      "__________________________________________________________________________________________________\n",
      "average_pooling2d_3 (AveragePoo (None, 30, 6, 128)   0           dropout_12[0][0]                 \n",
      "__________________________________________________________________________________________________\n",
      "conv2d_10 (Conv2D)              (None, 30, 4, 256)   294912      average_pooling2d_2[0][0]        \n",
      "__________________________________________________________________________________________________\n",
      "conv2d_14 (Conv2D)              (None, 30, 6, 256)   294912      average_pooling2d_3[0][0]        \n",
      "__________________________________________________________________________________________________\n",
      "batch_normalization_14 (BatchNo (None, 30, 4, 256)   1024        conv2d_10[0][0]                  \n",
      "__________________________________________________________________________________________________\n",
      "batch_normalization_20 (BatchNo (None, 30, 6, 256)   1024        conv2d_14[0][0]                  \n",
      "__________________________________________________________________________________________________\n",
      "activation_10 (Activation)      (None, 30, 4, 256)   0           batch_normalization_14[0][0]     \n",
      "__________________________________________________________________________________________________\n",
      "activation_14 (Activation)      (None, 30, 6, 256)   0           batch_normalization_20[0][0]     \n",
      "__________________________________________________________________________________________________\n",
      "dropout_9 (Dropout)             (None, 30, 4, 256)   0           activation_10[0][0]              \n",
      "__________________________________________________________________________________________________\n",
      "dropout_13 (Dropout)            (None, 30, 6, 256)   0           activation_14[0][0]              \n",
      "__________________________________________________________________________________________________\n",
      "conv2d_11 (Conv2D)              (None, 30, 4, 512)   1179648     dropout_9[0][0]                  \n",
      "__________________________________________________________________________________________________\n",
      "conv2d_15 (Conv2D)              (None, 30, 6, 512)   1179648     dropout_13[0][0]                 \n",
      "__________________________________________________________________________________________________\n",
      "batch_normalization_15 (BatchNo (None, 30, 4, 512)   2048        conv2d_11[0][0]                  \n",
      "__________________________________________________________________________________________________\n",
      "batch_normalization_21 (BatchNo (None, 30, 6, 512)   2048        conv2d_15[0][0]                  \n",
      "__________________________________________________________________________________________________\n",
      "activation_11 (Activation)      (None, 30, 4, 512)   0           batch_normalization_15[0][0]     \n",
      "__________________________________________________________________________________________________\n",
      "activation_15 (Activation)      (None, 30, 6, 512)   0           batch_normalization_21[0][0]     \n",
      "__________________________________________________________________________________________________\n",
      "dropout_10 (Dropout)            (None, 30, 4, 512)   0           activation_11[0][0]              \n",
      "__________________________________________________________________________________________________\n",
      "dropout_14 (Dropout)            (None, 30, 6, 512)   0           activation_15[0][0]              \n",
      "__________________________________________________________________________________________________\n",
      "global_average_pooling2d_2 (Glo (None, 512)          0           dropout_10[0][0]                 \n",
      "__________________________________________________________________________________________________\n",
      "global_average_pooling2d_3 (Glo (None, 512)          0           dropout_14[0][0]                 \n",
      "__________________________________________________________________________________________________\n",
      "batch_normalization_16 (BatchNo (None, 512)          2048        global_average_pooling2d_2[0][0] \n",
      "__________________________________________________________________________________________________\n",
      "batch_normalization_22 (BatchNo (None, 512)          2048        global_average_pooling2d_3[0][0] \n",
      "__________________________________________________________________________________________________\n",
      "dense_3 (Dense)                 (None, 128)          65664       batch_normalization_16[0][0]     \n",
      "__________________________________________________________________________________________________\n",
      "dense_4 (Dense)                 (None, 128)          65664       batch_normalization_22[0][0]     \n",
      "__________________________________________________________________________________________________\n",
      "batch_normalization_17 (BatchNo (None, 128)          512         dense_3[0][0]                    \n",
      "__________________________________________________________________________________________________\n",
      "batch_normalization_23 (BatchNo (None, 128)          512         dense_4[0][0]                    \n",
      "__________________________________________________________________________________________________\n",
      "dropout_11 (Dropout)            (None, 128)          0           batch_normalization_17[0][0]     \n",
      "__________________________________________________________________________________________________\n",
      "dropout_15 (Dropout)            (None, 128)          0           batch_normalization_23[0][0]     \n",
      "__________________________________________________________________________________________________\n",
      "concatenate_5 (Concatenate)     (None, 256)          0           dropout_11[0][0]                 \n",
      "                                                                 dropout_15[0][0]                 \n",
      "__________________________________________________________________________________________________\n",
      "dense_5 (Dense)                 (None, 19)           4883        concatenate_5[0][0]              \n",
      "==================================================================================================\n",
      "Total params: 3,246,739\n",
      "Trainable params: 3,240,339\n",
      "Non-trainable params: 6,400\n",
      "__________________________________________________________________________________________________\n",
      "WARNING:tensorflow:sample_weight modes were coerced from\n",
      "  ...\n",
      "    to  \n",
      "  ['...']\n"
     ]
    },
    {
     "name": "stdout",
     "output_type": "stream",
     "text": [
      "WARNING:tensorflow:sample_weight modes were coerced from\n",
      "  ...\n",
      "    to  \n",
      "  ['...']\n",
      "Train on 5833 samples, validate on 1459 samples\n",
      "Epoch 1/1000\n",
      "5824/5833 [============================>.] - ETA: 0s - loss: 2.3556 - acc: 0.2637"
     ]
    }
   ],
   "source": [
    "# [:,:,:,[1]]\n",
    "train = x\n",
    "test = t\n",
    "\n",
    "\n",
    "def label_smooth(y,rate=0.05):\n",
    "    y = y * (1 - rate)\n",
    "    y = y + rate / 19\n",
    "    return y\n",
    "    \n",
    "fold_num=5\n",
    "kfold = StratifiedKFold(fold_num,random_state=42,shuffle=True)\n",
    "proba_t = np.zeros((7500, 19))\n",
    "proba_oof = np.zeros((7292,19))\n",
    "\n",
    "oof_score = []\n",
    "oof_comm = []\n",
    "history = []\n",
    "for fold, (xx, yy) in enumerate(kfold.split(train, y)):\n",
    "    y_ = to_categorical(y, num_classes=19)\n",
    "    y_ = label_smooth(y_)\n",
    "    model = Net(60)\n",
    "    model.summary()\n",
    "    model.compile(loss='categorical_crossentropy',\n",
    "                  optimizer=Adam(),\n",
    "                  metrics=[\"acc\"])#'',localscore\n",
    "    plateau = ReduceLROnPlateau(monitor=\"acc\",\n",
    "                                verbose=1,\n",
    "                                mode='max',\n",
    "                                factor=0.5,\n",
    "                                patience=18)\n",
    "    early_stopping = EarlyStopping(monitor=\"val_acc\",\n",
    "                                   verbose=1,\n",
    "                                   mode='max',\n",
    "                                   patience=60)\n",
    "\n",
    "    checkpoint = ModelCheckpoint(f'Conv2dfold{fold}.h5',\n",
    "                                 monitor=\"val_acc\",\n",
    "                                 verbose=0,\n",
    "                                 mode='max',\n",
    "                                 save_best_only=True)\n",
    " \n",
    "    train_res = model.fit(train[xx], y_[xx],\n",
    "              epochs=1000,\n",
    "              batch_size=32,\n",
    "              verbose=1,\n",
    "              shuffle=True,\n",
    "              validation_data=(train[yy], y_[yy],),\n",
    "              callbacks=[plateau, early_stopping, checkpoint],\n",
    "              class_weight=classweights)\n",
    "    history.append(train_res)\n",
    "    \n",
    " \n",
    "    model.load_weights(f'Conv2dfold{fold}.h5')\n",
    "    proba_t += model.predict(test, verbose=0, batch_size=1024) / fold_num \n",
    "    proba_oof[yy] += model.predict(train[yy],verbose=0,batch_size=1024) \n",
    "\n",
    "    oof_y = np.argmax(proba_oof[yy], axis=1)\n",
    "    acc = round(accuracy_score(y[yy], oof_y),3)\n",
    "    print(acc)\n",
    "    oof_score.append(acc)\n",
    "    scores = sum(acc_combo(y_true, y_pred) for y_true, y_pred in zip(y[yy], oof_y)) / oof_y.shape[0]\n",
    "    oof_comm.append(scores)   \n",
    "    print(round(scores, 5))\n"
   ]
  },
  {
   "cell_type": "code",
   "execution_count": null,
   "metadata": {
    "ExecuteTime": {
     "end_time": "2020-08-06T17:49:47.413765Z",
     "start_time": "2020-08-06T17:49:41.001Z"
    }
   },
   "outputs": [],
   "source": [
    "# import matplotlib.pyplot as plt   \n",
    "# plt.figure(figsize=(12,20))\n",
    "# start=5\n",
    "# for i in range(5):\n",
    "#     min_acc_index=history[i].history['val_loss'].index(np.min(history[i].history['val_loss']))\n",
    "#     print(str(i)+' val_loss'+str(history[i].history['val_loss'][min_acc_index])+'val_acc'+str(history[i].history['val_acc'][min_acc_index]))\n",
    "# for i in range(5):\n",
    "#     min_acc_index=history[i].history['val_loss'].index(np.min(history[i].history['val_loss']))\n",
    "#     length=len(history[i].history['loss'][start:])\n",
    "#     plt.subplot(5,1,i+1)\n",
    "#     plt.plot(range(length),history[i].history['loss'][start:],label='loss')\n",
    "#     plt.plot(range(length),history[i].history['acc'][start:],label='acc')\n",
    "#     plt.plot(range(length),history[i].history['val_loss'][start:],label='val_loss')\n",
    "#     plt.plot(range(length),history[i].history['val_acc'][start:],label='val_acc')\n",
    "#     plt.title(str(i)+' val_loss'+str(history[i].history['val_loss'][min_acc_index])+'val_acc'+str(history[i].history['val_acc'][min_acc_index]))\n",
    "#     plt.legend(loc='best')\n",
    "    \n",
    "# print(oof_score,np.mean(oof_score))\n",
    "# print(oof_comm,np.mean(oof_comm))"
   ]
  },
  {
   "cell_type": "code",
   "execution_count": 49,
   "metadata": {
    "ExecuteTime": {
     "end_time": "2020-07-25T01:48:17.667178Z",
     "start_time": "2020-07-25T01:48:17.615085Z"
    },
    "scrolled": false
   },
   "outputs": [
    {
     "name": "stdout",
     "output_type": "stream",
     "text": [
      "0 0.8668363849995089 0.845\n",
      "1 0.8334802049675238 0.803\n",
      "2 0.8686720229930087 0.845\n",
      "3 0.8404859886341358 0.811\n",
      "4 0.8689006466784225 0.848\n"
     ]
    },
    {
     "data": {
      "text/plain": [
       "['0725_conv2_2_net_weight_comm_0.85568_dict.pkl']"
      ]
     },
     "execution_count": 49,
     "metadata": {},
     "output_type": "execute_result"
    }
   ],
   "source": [
    "for index,i in enumerate(oof_comm):\n",
    "    print(index,i,oof_score[index])\n",
    "\n",
    "oof_dict = {\n",
    "    \"oof\":proba_oof,\n",
    "    \"test\":proba_t,\n",
    "    \"acc\":oof_comm,\n",
    "}\n",
    "import joblib \n",
    "joblib.dump(oof_dict,\"0725_conv2_2_net_weight_comm_%.5f_dict.pkl\"% np.mean(oof_comm))\n"
   ]
  },
  {
   "cell_type": "code",
   "execution_count": null,
   "metadata": {
    "ExecuteTime": {
     "end_time": "2020-07-16T13:57:52.329072Z",
     "start_time": "2020-07-16T13:57:51.981730Z"
    }
   },
   "outputs": [],
   "source": []
  },
  {
   "cell_type": "code",
   "execution_count": 50,
   "metadata": {
    "ExecuteTime": {
     "end_time": "2020-07-25T01:48:22.408918Z",
     "start_time": "2020-07-25T01:48:21.845701Z"
    },
    "scrolled": true
   },
   "outputs": [
    {
     "name": "stdout",
     "output_type": "stream",
     "text": [
      "0.83036\n",
      "0.85567\n"
     ]
    },
    {
     "data": {
      "image/png": "[encoded data removed]",
      "text/plain": [
       "<Figure size 432x288 with 1 Axes>"
      ]
     },
     "metadata": {
      "needs_background": "light"
     },
     "output_type": "display_data"
    },
    {
     "data": {
      "image/png": "[encoded data removed]",
      "text/plain": [
       "<Figure size 432x288 with 1 Axes>"
      ]
     },
     "metadata": {
      "needs_background": "light"
     },
     "output_type": "display_data"
    },
    {
     "data": {
      "image/png": "[encoded data removed]",
      "text/plain": [
       "<Figure size 432x288 with 1 Axes>"
      ]
     },
     "metadata": {
      "needs_background": "light"
     },
     "output_type": "display_data"
    },
    {
     "name": "stdout",
     "output_type": "stream",
     "text": [
      "<class 'pandas.core.frame.DataFrame'>\n",
      "RangeIndex: 7500 entries, 0 to 7499\n",
      "Data columns (total 2 columns):\n",
      " #   Column       Non-Null Count  Dtype\n",
      "---  ------       --------------  -----\n",
      " 0   fragment_id  7500 non-null   int64\n",
      " 1   behavior_id  7500 non-null   int64\n",
      "dtypes: int64(2)\n",
      "memory usage: 117.3 KB\n"
     ]
    }
   ],
   "source": [
    "import seaborn as sns\n",
    "import matplotlib.pyplot as plt\n",
    "from sklearn.metrics import f1_score, precision_score, recall_score, accuracy_score\n",
    "\n",
    "def acc_combo(y, y_pred):\n",
    "    # 数值ID与行为编码的对应关系\n",
    "    mapping = {0: 'A_0', 1: 'A_1', 2: 'A_2', 3: 'A_3', \n",
    "        4: 'D_4', 5: 'A_5', 6: 'B_1',7: 'B_5', \n",
    "        8: 'B_2', 9: 'B_3', 10: 'B_0', 11: 'A_6', \n",
    "        12: 'C_1', 13: 'C_3', 14: 'C_0', 15: 'B_6', \n",
    "        16: 'C_2', 17: 'C_5', 18: 'C_6'}\n",
    "    # 将行为ID转为编码\n",
    "    code_y, code_y_pred = mapping[y], mapping[y_pred]\n",
    "    if code_y == code_y_pred: #编码完全相同得分1.0\n",
    "        return 1.0\n",
    "    elif code_y.split(\"_\")[0] == code_y_pred.split(\"_\")[0]: #编码仅字母部分相同得分1.0/7\n",
    "        return 1.0/7\n",
    "    elif code_y.split(\"_\")[1] == code_y_pred.split(\"_\")[1]: #编码仅数字部分相同得分1.0/3\n",
    "        return 1.0/3\n",
    "    else:\n",
    "        return 0.0\n",
    "\n",
    "train_y = y\n",
    "labels = np.argmax(proba_t, axis=1)\n",
    "oof_y = np.argmax(proba_oof, axis=1)\n",
    "print(round(accuracy_score(train_y, oof_y), 5))\n",
    "scores = sum(acc_combo(y_true, y_pred) for y_true, y_pred in zip(train_y, oof_y)) / oof_y.shape[0]\n",
    "print(round(scores, 5))\n",
    "data_path = '../../zp/jiaozibei/data/'\n",
    "sub = pd.read_csv(data_path+'提交结果示例.csv')\n",
    "sub['behavior_id'] = labels\n",
    "\n",
    "vc = pd.Series(train_y).value_counts().sort_index()\n",
    "# sns.barplot(vc.index, vc.values)\n",
    "# plt.show()\n",
    "\n",
    "vc = pd.Series(oof_y).value_counts().sort_index()\n",
    "# sns.barplot(vc.index, vc.values)\n",
    "# plt.show()\n",
    "\n",
    "vc = sub['behavior_id'].value_counts().sort_index()\n",
    "# sns.barplot(vc.index, vc.values)\n",
    "# plt.show()\n",
    "sub.to_csv('0721_conv2_2_net_oof_comm_nn%.5f.csv' % scores, index=False)\n",
    "sub.info()\n"
   ]
  },
  {
   "cell_type": "code",
   "execution_count": 51,
   "metadata": {
    "ExecuteTime": {
     "end_time": "2020-07-25T01:49:02.769096Z",
     "start_time": "2020-07-25T01:49:01.770754Z"
    },
    "scrolled": false
   },
   "outputs": [
    {
     "name": "stdout",
     "output_type": "stream",
     "text": [
      "['A_0', 'A_1', 'A_2', 'A_3', 'D_4', 'A_5', 'B_1', 'B_5', 'B_2', 'B_3', 'B_0', 'A_6', 'C_1', 'C_3', 'C_0', 'B_6', 'C_2', 'C_5', 'C_6']\n"
     ]
    },
    {
     "data": {
      "image/png": "[encoded data removed]",
      "text/plain": [
       "<Figure size 1200x900 with 2 Axes>"
      ]
     },
     "metadata": {
      "needs_background": "light"
     },
     "output_type": "display_data"
    }
   ],
   "source": [
    "\n",
    "# %matplotlib inline\n",
    "# from sklearn.metrics import confusion_matrix\n",
    "# import matplotlib.pyplot as plt\n",
    "# import numpy as np\n",
    "\n",
    "# def plot_confusion_matrix(cm,classes,title='Confusion Matrix'):\n",
    "\n",
    "#     plt.figure(figsize=(12, 9), dpi=100)\n",
    "#     np.set_printoptions(precision=2)\n",
    "    \n",
    "#     sns.heatmap(cm,annot=True)\n",
    "#     plt.title(title)\n",
    "#     plt.xticks(ticks=range(19),labels=classes)\n",
    "#     plt.yticks(ticks=range(19),labels=classes)\n",
    "    \n",
    "#     plt.ylabel('Actual label')\n",
    "#     plt.xlabel('Predict label')\n",
    "#     plt.show()\n",
    "    \n",
    "# # classes表示不同类别的名称，比如这有6个类别\n",
    "# num2detail_mapping = {0: 'A_0', 1: 'A_1', 2: 'A_2', 3: 'A_3', \n",
    "#         4: 'D_4', 5: 'A_5', 6: 'B_1',7: 'B_5', \n",
    "#         8: 'B_2', 9: 'B_3', 10: 'B_0', 11: 'A_6', \n",
    "#         12: 'C_1', 13: 'C_3', 14: 'C_0', 15: 'B_6', \n",
    "#         16: 'C_2', 17: 'C_5', 18: 'C_6'}\n",
    "\n",
    "# classes = [num2detail_mapping[int(i)]for i in range(19)]\n",
    "# print(classes)\n",
    "# # 获取混淆矩阵\n",
    "# cm = confusion_matrix(train_y, oof_y,normalize='true')\n",
    "# cm = np.round(cm,2)\n",
    "# plot_confusion_matrix(cm,classes, title='confusion matrix')"
   ]
  }
 ],
 "metadata": {
  "kernelspec": {
   "display_name": "Python [conda env:TF2.1]",
   "language": "python",
   "name": "conda-env-TF2.1-py"
  },
  "language_info": {
   "codemirror_mode": {
    "name": "ipython",
    "version": 3
   },
   "file_extension": ".py",
   "mimetype": "text/x-python",
   "name": "python",
   "nbconvert_exporter": "python",
   "pygments_lexer": "ipython3",
   "version": "3.7.7"
  },
  "toc": {
   "base_numbering": 1,
   "nav_menu": {},
   "number_sections": true,
   "sideBar": true,
   "skip_h1_title": false,
   "title_cell": "Table of Contents",
   "title_sidebar": "Contents",
   "toc_cell": false,
   "toc_position": {},
   "toc_section_display": true,
   "toc_window_display": false
  }
 },
 "nbformat": 4,
 "nbformat_minor": 4
}
