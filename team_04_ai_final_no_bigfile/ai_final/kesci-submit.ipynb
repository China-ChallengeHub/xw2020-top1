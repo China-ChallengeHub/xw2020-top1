{
 "cells": [
  {
   "cell_type": "code",
   "execution_count": 7,
   "metadata": {},
   "outputs": [
    {
     "name": "stdout",
     "output_type": "stream",
     "text": [
      "2020-08-21 13:20:00 URL:https://cdn.kesci.com/submit_tool/v4/kesci_submit [7357446/7357446] -> \"kesci_submit\" [1]\r\n"
     ]
    }
   ],
   "source": [
    "!wget -nv -O kesci_submit https://cdn.kesci.com/submit_tool/v4/kesci_submit&&chmod +x kesci_submit"
   ]
  },
  {
   "cell_type": "code",
   "execution_count": 44,
   "metadata": {},
   "outputs": [
    {
     "name": "stdout",
     "output_type": "stream",
     "text": [
      "Kesci Submit Tool 4.0.0\n",
      "\n",
      "> 已验证Token\n",
      "> 提交文件 ensemble/emsemble0.89830.csv (122.73 KiB), Target Qiniu\n",
      "> 已上传 100 %\n",
      "> 文件已上传        \n",
      "> 服务器响应: 200 提交成功，请等待评审完成\n",
      "> 提交完成\n"
     ]
    }
   ],
   "source": [
    "!./kesci_submit -token 8f1865677f431b00 -file ensemble/emsemble0.89830.csv"
   ]
  },
  {
   "cell_type": "code",
   "execution_count": 2,
   "metadata": {
    "scrolled": true
   },
   "outputs": [
    {
     "name": "stdout",
     "output_type": "stream",
     "text": [
      "data\t       final_data.zip  kesci-submit.ipynb  zp.ipynb\r\n",
      "eda-lcy.ipynb  kesci_submit    zp\r\n"
     ]
    }
   ],
   "source": [
    "!ls"
   ]
  },
  {
   "cell_type": "code",
   "execution_count": null,
   "metadata": {},
   "outputs": [],
   "source": []
  }
 ],
 "metadata": {
  "kernelspec": {
   "display_name": "Python 3",
   "language": "python",
   "name": "python3"
  },
  "language_info": {
   "codemirror_mode": {
    "name": "ipython",
    "version": 3
   },
   "file_extension": ".py",
   "mimetype": "text/x-python",
   "name": "python",
   "nbconvert_exporter": "python",
   "pygments_lexer": "ipython3",
   "version": "3.7.7"
  }
 },
 "nbformat": 4,
 "nbformat_minor": 4
}
